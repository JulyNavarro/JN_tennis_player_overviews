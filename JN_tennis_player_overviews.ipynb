{
 "cells": [
  {
   "cell_type": "markdown",
   "metadata": {},
   "source": [
    "# 1) Pick a data set of your interest and upload it to your notebook using Python code."
   ]
  },
  {
   "cell_type": "markdown",
   "metadata": {},
   "source": [
    "To analyze and work on this data set, it was necessity to import the all libraries below in Python"
   ]
  },
  {
   "cell_type": "code",
   "execution_count": 30,
   "metadata": {},
   "outputs": [],
   "source": [
    "import pandas as pd\n",
    "import seaborn as sns\n",
    "import matplotlib.pyplot as plt"
   ]
  },
  {
   "cell_type": "markdown",
   "metadata": {},
   "source": [
    "Then the file is read with read_csv"
   ]
  },
  {
   "cell_type": "code",
   "execution_count": 31,
   "metadata": {},
   "outputs": [],
   "source": [
    "tennis_player = pd.read_csv('https://datahub.io/sports-data/atp-world-tour-tennis-data/r/8.csv')"
   ]
  },
  {
   "cell_type": "markdown",
   "metadata": {},
   "source": [
    "# 2) Add a small brief about that data set, and appropriate reference"
   ]
  },
  {
   "cell_type": "markdown",
   "metadata": {},
   "source": [
    "This dataset refers to ATP World Tour tennis, in it, there are tennis data from the ATP World Tour website; for this assignment, I decided to choose to analyse rankings and players overview, so I will use the data file player_overviews_unindexed"
   ]
  },
  {
   "cell_type": "markdown",
   "metadata": {},
   "source": [
    "In the following links you can access to the information of the varialbes used in this data set:\n",
    "\n",
    "table\n",
    "https://datahub.io/sports-data/atp-world-tour-tennis-data/r/8.html"
   ]
  },
  {
   "cell_type": "markdown",
   "metadata": {},
   "source": [
    "CSV\n",
    "https://pkgstore.datahub.io/sports-data/atp-world-tour-tennis-data/player_overviews_unindexed_csv/data/48e2fc905227f0f2027f17478f7e3582/player_overviews_unindexed_csv.csv"
   ]
  },
  {
   "cell_type": "markdown",
   "metadata": {},
   "source": [
    "# 3) Using apropriate Python code show relevant information about the data set selected"
   ]
  },
  {
   "cell_type": "markdown",
   "metadata": {},
   "source": [
    "The fuction head () it is used in this case to show the first 5 lines of our file"
   ]
  },
  {
   "cell_type": "code",
   "execution_count": 32,
   "metadata": {
    "scrolled": false
   },
   "outputs": [
    {
     "data": {
      "text/html": [
       "<div>\n",
       "<style scoped>\n",
       "    .dataframe tbody tr th:only-of-type {\n",
       "        vertical-align: middle;\n",
       "    }\n",
       "\n",
       "    .dataframe tbody tr th {\n",
       "        vertical-align: top;\n",
       "    }\n",
       "\n",
       "    .dataframe thead th {\n",
       "        text-align: right;\n",
       "    }\n",
       "</style>\n",
       "<table border=\"1\" class=\"dataframe\">\n",
       "  <thead>\n",
       "    <tr style=\"text-align: right;\">\n",
       "      <th></th>\n",
       "      <th>player_id</th>\n",
       "      <th>player_slug</th>\n",
       "      <th>first_name</th>\n",
       "      <th>last_name</th>\n",
       "      <th>player_url</th>\n",
       "      <th>flag_code</th>\n",
       "      <th>residence</th>\n",
       "      <th>birthplace</th>\n",
       "      <th>birthdate</th>\n",
       "      <th>birth_year</th>\n",
       "      <th>birth_month</th>\n",
       "      <th>birth_day</th>\n",
       "      <th>turned_pro</th>\n",
       "      <th>weight_lbs</th>\n",
       "      <th>weight_kg</th>\n",
       "      <th>height_ft</th>\n",
       "      <th>height_inches</th>\n",
       "      <th>height_cm</th>\n",
       "      <th>handedness</th>\n",
       "      <th>backhand</th>\n",
       "    </tr>\n",
       "  </thead>\n",
       "  <tbody>\n",
       "    <tr>\n",
       "      <th>0</th>\n",
       "      <td>a002</td>\n",
       "      <td>ricardo-acuna</td>\n",
       "      <td>Ricardo</td>\n",
       "      <td>Acuna</td>\n",
       "      <td>http://www.atpworldtour.com/en/players/ricardo...</td>\n",
       "      <td>CHI</td>\n",
       "      <td>Jupiter, FL, USA</td>\n",
       "      <td>Santiago, Chile</td>\n",
       "      <td>1958.01.13</td>\n",
       "      <td>1958.0</td>\n",
       "      <td>1.0</td>\n",
       "      <td>13.0</td>\n",
       "      <td>0.0</td>\n",
       "      <td>150.0</td>\n",
       "      <td>68.0</td>\n",
       "      <td>5'9\"</td>\n",
       "      <td>69.0</td>\n",
       "      <td>175.0</td>\n",
       "      <td>NaN</td>\n",
       "      <td>NaN</td>\n",
       "    </tr>\n",
       "    <tr>\n",
       "      <th>1</th>\n",
       "      <td>a001</td>\n",
       "      <td>sadiq-abdullahi</td>\n",
       "      <td>Sadiq</td>\n",
       "      <td>Abdullahi</td>\n",
       "      <td>http://www.atpworldtour.com/en/players/sadiq-a...</td>\n",
       "      <td>NGR</td>\n",
       "      <td>NaN</td>\n",
       "      <td>NaN</td>\n",
       "      <td>1960.02.02</td>\n",
       "      <td>1960.0</td>\n",
       "      <td>2.0</td>\n",
       "      <td>2.0</td>\n",
       "      <td>0.0</td>\n",
       "      <td>0.0</td>\n",
       "      <td>0.0</td>\n",
       "      <td>0'0\"</td>\n",
       "      <td>0.0</td>\n",
       "      <td>0.0</td>\n",
       "      <td>NaN</td>\n",
       "      <td>NaN</td>\n",
       "    </tr>\n",
       "    <tr>\n",
       "      <th>2</th>\n",
       "      <td>a005</td>\n",
       "      <td>nelson-aerts</td>\n",
       "      <td>Nelson</td>\n",
       "      <td>Aerts</td>\n",
       "      <td>http://www.atpworldtour.com/en/players/nelson-...</td>\n",
       "      <td>BRA</td>\n",
       "      <td>NaN</td>\n",
       "      <td>Cachoeira Do Sul, Brazil</td>\n",
       "      <td>1963.04.25</td>\n",
       "      <td>1963.0</td>\n",
       "      <td>4.0</td>\n",
       "      <td>25.0</td>\n",
       "      <td>0.0</td>\n",
       "      <td>165.0</td>\n",
       "      <td>75.0</td>\n",
       "      <td>6'2\"</td>\n",
       "      <td>74.0</td>\n",
       "      <td>188.0</td>\n",
       "      <td>NaN</td>\n",
       "      <td>NaN</td>\n",
       "    </tr>\n",
       "    <tr>\n",
       "      <th>3</th>\n",
       "      <td>a004</td>\n",
       "      <td>egan-adams</td>\n",
       "      <td>Egan</td>\n",
       "      <td>Adams</td>\n",
       "      <td>http://www.atpworldtour.com/en/players/egan-ad...</td>\n",
       "      <td>USA</td>\n",
       "      <td>Palmetto, FL, USA</td>\n",
       "      <td>Miami Beach, FL, USA</td>\n",
       "      <td>1959.06.15</td>\n",
       "      <td>1959.0</td>\n",
       "      <td>6.0</td>\n",
       "      <td>15.0</td>\n",
       "      <td>0.0</td>\n",
       "      <td>160.0</td>\n",
       "      <td>73.0</td>\n",
       "      <td>5'10\"</td>\n",
       "      <td>70.0</td>\n",
       "      <td>178.0</td>\n",
       "      <td>NaN</td>\n",
       "      <td>NaN</td>\n",
       "    </tr>\n",
       "    <tr>\n",
       "      <th>4</th>\n",
       "      <td>a006</td>\n",
       "      <td>ronald-agenor</td>\n",
       "      <td>Ronald</td>\n",
       "      <td>Agenor</td>\n",
       "      <td>http://www.atpworldtour.com/en/players/ronald-...</td>\n",
       "      <td>USA</td>\n",
       "      <td>Beverly Hills, California, USA</td>\n",
       "      <td>Rabat, Morocco</td>\n",
       "      <td>1964.11.13</td>\n",
       "      <td>1964.0</td>\n",
       "      <td>11.0</td>\n",
       "      <td>13.0</td>\n",
       "      <td>1983.0</td>\n",
       "      <td>180.0</td>\n",
       "      <td>82.0</td>\n",
       "      <td>5'11\"</td>\n",
       "      <td>71.0</td>\n",
       "      <td>180.0</td>\n",
       "      <td>NaN</td>\n",
       "      <td>NaN</td>\n",
       "    </tr>\n",
       "  </tbody>\n",
       "</table>\n",
       "</div>"
      ],
      "text/plain": [
       "  player_id      player_slug first_name  last_name  \\\n",
       "0      a002    ricardo-acuna    Ricardo      Acuna   \n",
       "1      a001  sadiq-abdullahi      Sadiq  Abdullahi   \n",
       "2      a005     nelson-aerts     Nelson      Aerts   \n",
       "3      a004       egan-adams       Egan      Adams   \n",
       "4      a006    ronald-agenor     Ronald     Agenor   \n",
       "\n",
       "                                          player_url flag_code  \\\n",
       "0  http://www.atpworldtour.com/en/players/ricardo...       CHI   \n",
       "1  http://www.atpworldtour.com/en/players/sadiq-a...       NGR   \n",
       "2  http://www.atpworldtour.com/en/players/nelson-...       BRA   \n",
       "3  http://www.atpworldtour.com/en/players/egan-ad...       USA   \n",
       "4  http://www.atpworldtour.com/en/players/ronald-...       USA   \n",
       "\n",
       "                        residence                birthplace   birthdate  \\\n",
       "0                Jupiter, FL, USA           Santiago, Chile  1958.01.13   \n",
       "1                             NaN                       NaN  1960.02.02   \n",
       "2                             NaN  Cachoeira Do Sul, Brazil  1963.04.25   \n",
       "3               Palmetto, FL, USA      Miami Beach, FL, USA  1959.06.15   \n",
       "4  Beverly Hills, California, USA            Rabat, Morocco  1964.11.13   \n",
       "\n",
       "   birth_year  birth_month  birth_day  turned_pro  weight_lbs  weight_kg  \\\n",
       "0      1958.0          1.0       13.0         0.0       150.0       68.0   \n",
       "1      1960.0          2.0        2.0         0.0         0.0        0.0   \n",
       "2      1963.0          4.0       25.0         0.0       165.0       75.0   \n",
       "3      1959.0          6.0       15.0         0.0       160.0       73.0   \n",
       "4      1964.0         11.0       13.0      1983.0       180.0       82.0   \n",
       "\n",
       "  height_ft  height_inches  height_cm handedness backhand  \n",
       "0      5'9\"           69.0      175.0        NaN      NaN  \n",
       "1      0'0\"            0.0        0.0        NaN      NaN  \n",
       "2      6'2\"           74.0      188.0        NaN      NaN  \n",
       "3     5'10\"           70.0      178.0        NaN      NaN  \n",
       "4     5'11\"           71.0      180.0        NaN      NaN  "
      ]
     },
     "execution_count": 32,
     "metadata": {},
     "output_type": "execute_result"
    }
   ],
   "source": [
    "tennis_player.head()"
   ]
  },
  {
   "cell_type": "markdown",
   "metadata": {},
   "source": [
    "The fuction head (10) it is used in this case to show the first 10 lines of our file"
   ]
  },
  {
   "cell_type": "code",
   "execution_count": 33,
   "metadata": {
    "scrolled": true
   },
   "outputs": [
    {
     "data": {
      "text/html": [
       "<div>\n",
       "<style scoped>\n",
       "    .dataframe tbody tr th:only-of-type {\n",
       "        vertical-align: middle;\n",
       "    }\n",
       "\n",
       "    .dataframe tbody tr th {\n",
       "        vertical-align: top;\n",
       "    }\n",
       "\n",
       "    .dataframe thead th {\n",
       "        text-align: right;\n",
       "    }\n",
       "</style>\n",
       "<table border=\"1\" class=\"dataframe\">\n",
       "  <thead>\n",
       "    <tr style=\"text-align: right;\">\n",
       "      <th></th>\n",
       "      <th>player_id</th>\n",
       "      <th>player_slug</th>\n",
       "      <th>first_name</th>\n",
       "      <th>last_name</th>\n",
       "      <th>player_url</th>\n",
       "      <th>flag_code</th>\n",
       "      <th>residence</th>\n",
       "      <th>birthplace</th>\n",
       "      <th>birthdate</th>\n",
       "      <th>birth_year</th>\n",
       "      <th>birth_month</th>\n",
       "      <th>birth_day</th>\n",
       "      <th>turned_pro</th>\n",
       "      <th>weight_lbs</th>\n",
       "      <th>weight_kg</th>\n",
       "      <th>height_ft</th>\n",
       "      <th>height_inches</th>\n",
       "      <th>height_cm</th>\n",
       "      <th>handedness</th>\n",
       "      <th>backhand</th>\n",
       "    </tr>\n",
       "  </thead>\n",
       "  <tbody>\n",
       "    <tr>\n",
       "      <th>0</th>\n",
       "      <td>a002</td>\n",
       "      <td>ricardo-acuna</td>\n",
       "      <td>Ricardo</td>\n",
       "      <td>Acuna</td>\n",
       "      <td>http://www.atpworldtour.com/en/players/ricardo...</td>\n",
       "      <td>CHI</td>\n",
       "      <td>Jupiter, FL, USA</td>\n",
       "      <td>Santiago, Chile</td>\n",
       "      <td>1958.01.13</td>\n",
       "      <td>1958.0</td>\n",
       "      <td>1.0</td>\n",
       "      <td>13.0</td>\n",
       "      <td>0.0</td>\n",
       "      <td>150.0</td>\n",
       "      <td>68.0</td>\n",
       "      <td>5'9\"</td>\n",
       "      <td>69.0</td>\n",
       "      <td>175.0</td>\n",
       "      <td>NaN</td>\n",
       "      <td>NaN</td>\n",
       "    </tr>\n",
       "    <tr>\n",
       "      <th>1</th>\n",
       "      <td>a001</td>\n",
       "      <td>sadiq-abdullahi</td>\n",
       "      <td>Sadiq</td>\n",
       "      <td>Abdullahi</td>\n",
       "      <td>http://www.atpworldtour.com/en/players/sadiq-a...</td>\n",
       "      <td>NGR</td>\n",
       "      <td>NaN</td>\n",
       "      <td>NaN</td>\n",
       "      <td>1960.02.02</td>\n",
       "      <td>1960.0</td>\n",
       "      <td>2.0</td>\n",
       "      <td>2.0</td>\n",
       "      <td>0.0</td>\n",
       "      <td>0.0</td>\n",
       "      <td>0.0</td>\n",
       "      <td>0'0\"</td>\n",
       "      <td>0.0</td>\n",
       "      <td>0.0</td>\n",
       "      <td>NaN</td>\n",
       "      <td>NaN</td>\n",
       "    </tr>\n",
       "    <tr>\n",
       "      <th>2</th>\n",
       "      <td>a005</td>\n",
       "      <td>nelson-aerts</td>\n",
       "      <td>Nelson</td>\n",
       "      <td>Aerts</td>\n",
       "      <td>http://www.atpworldtour.com/en/players/nelson-...</td>\n",
       "      <td>BRA</td>\n",
       "      <td>NaN</td>\n",
       "      <td>Cachoeira Do Sul, Brazil</td>\n",
       "      <td>1963.04.25</td>\n",
       "      <td>1963.0</td>\n",
       "      <td>4.0</td>\n",
       "      <td>25.0</td>\n",
       "      <td>0.0</td>\n",
       "      <td>165.0</td>\n",
       "      <td>75.0</td>\n",
       "      <td>6'2\"</td>\n",
       "      <td>74.0</td>\n",
       "      <td>188.0</td>\n",
       "      <td>NaN</td>\n",
       "      <td>NaN</td>\n",
       "    </tr>\n",
       "    <tr>\n",
       "      <th>3</th>\n",
       "      <td>a004</td>\n",
       "      <td>egan-adams</td>\n",
       "      <td>Egan</td>\n",
       "      <td>Adams</td>\n",
       "      <td>http://www.atpworldtour.com/en/players/egan-ad...</td>\n",
       "      <td>USA</td>\n",
       "      <td>Palmetto, FL, USA</td>\n",
       "      <td>Miami Beach, FL, USA</td>\n",
       "      <td>1959.06.15</td>\n",
       "      <td>1959.0</td>\n",
       "      <td>6.0</td>\n",
       "      <td>15.0</td>\n",
       "      <td>0.0</td>\n",
       "      <td>160.0</td>\n",
       "      <td>73.0</td>\n",
       "      <td>5'10\"</td>\n",
       "      <td>70.0</td>\n",
       "      <td>178.0</td>\n",
       "      <td>NaN</td>\n",
       "      <td>NaN</td>\n",
       "    </tr>\n",
       "    <tr>\n",
       "      <th>4</th>\n",
       "      <td>a006</td>\n",
       "      <td>ronald-agenor</td>\n",
       "      <td>Ronald</td>\n",
       "      <td>Agenor</td>\n",
       "      <td>http://www.atpworldtour.com/en/players/ronald-...</td>\n",
       "      <td>USA</td>\n",
       "      <td>Beverly Hills, California, USA</td>\n",
       "      <td>Rabat, Morocco</td>\n",
       "      <td>1964.11.13</td>\n",
       "      <td>1964.0</td>\n",
       "      <td>11.0</td>\n",
       "      <td>13.0</td>\n",
       "      <td>1983.0</td>\n",
       "      <td>180.0</td>\n",
       "      <td>82.0</td>\n",
       "      <td>5'11\"</td>\n",
       "      <td>71.0</td>\n",
       "      <td>180.0</td>\n",
       "      <td>NaN</td>\n",
       "      <td>NaN</td>\n",
       "    </tr>\n",
       "    <tr>\n",
       "      <th>5</th>\n",
       "      <td>a007</td>\n",
       "      <td>juan-aguilera</td>\n",
       "      <td>Juan</td>\n",
       "      <td>Aguilera</td>\n",
       "      <td>http://www.atpworldtour.com/en/players/juan-ag...</td>\n",
       "      <td>ESP</td>\n",
       "      <td>NaN</td>\n",
       "      <td>Barcelona, Spain</td>\n",
       "      <td>1962.03.22</td>\n",
       "      <td>1962.0</td>\n",
       "      <td>3.0</td>\n",
       "      <td>22.0</td>\n",
       "      <td>0.0</td>\n",
       "      <td>150.0</td>\n",
       "      <td>68.0</td>\n",
       "      <td>6'0\"</td>\n",
       "      <td>72.0</td>\n",
       "      <td>183.0</td>\n",
       "      <td>NaN</td>\n",
       "      <td>NaN</td>\n",
       "    </tr>\n",
       "    <tr>\n",
       "      <th>6</th>\n",
       "      <td>a012</td>\n",
       "      <td>marc-albert</td>\n",
       "      <td>Marc</td>\n",
       "      <td>Albert</td>\n",
       "      <td>http://www.atpworldtour.com/en/players/marc-al...</td>\n",
       "      <td>NED</td>\n",
       "      <td>NaN</td>\n",
       "      <td>NaN</td>\n",
       "      <td>NaN</td>\n",
       "      <td>NaN</td>\n",
       "      <td>NaN</td>\n",
       "      <td>NaN</td>\n",
       "      <td>0.0</td>\n",
       "      <td>0.0</td>\n",
       "      <td>0.0</td>\n",
       "      <td>0'0\"</td>\n",
       "      <td>0.0</td>\n",
       "      <td>0.0</td>\n",
       "      <td>NaN</td>\n",
       "      <td>NaN</td>\n",
       "    </tr>\n",
       "    <tr>\n",
       "      <th>7</th>\n",
       "      <td>a013</td>\n",
       "      <td>marco-alciati</td>\n",
       "      <td>Marco</td>\n",
       "      <td>Alciati</td>\n",
       "      <td>http://www.atpworldtour.com/en/players/marco-a...</td>\n",
       "      <td>ITA</td>\n",
       "      <td>NaN</td>\n",
       "      <td>NaN</td>\n",
       "      <td>NaN</td>\n",
       "      <td>NaN</td>\n",
       "      <td>NaN</td>\n",
       "      <td>NaN</td>\n",
       "      <td>0.0</td>\n",
       "      <td>0.0</td>\n",
       "      <td>0.0</td>\n",
       "      <td>0'0\"</td>\n",
       "      <td>0.0</td>\n",
       "      <td>0.0</td>\n",
       "      <td>NaN</td>\n",
       "      <td>NaN</td>\n",
       "    </tr>\n",
       "    <tr>\n",
       "      <th>8</th>\n",
       "      <td>a009</td>\n",
       "      <td>richard-akel</td>\n",
       "      <td>Richard</td>\n",
       "      <td>Akel</td>\n",
       "      <td>http://www.atpworldtour.com/en/players/richard...</td>\n",
       "      <td>USA</td>\n",
       "      <td>NaN</td>\n",
       "      <td>Little Rock, AR, USA</td>\n",
       "      <td>1962.02.12</td>\n",
       "      <td>1962.0</td>\n",
       "      <td>2.0</td>\n",
       "      <td>12.0</td>\n",
       "      <td>0.0</td>\n",
       "      <td>0.0</td>\n",
       "      <td>0.0</td>\n",
       "      <td>0'0\"</td>\n",
       "      <td>0.0</td>\n",
       "      <td>0.0</td>\n",
       "      <td>NaN</td>\n",
       "      <td>NaN</td>\n",
       "    </tr>\n",
       "    <tr>\n",
       "      <th>9</th>\n",
       "      <td>a014</td>\n",
       "      <td>john-alexander</td>\n",
       "      <td>John</td>\n",
       "      <td>Alexander</td>\n",
       "      <td>http://www.atpworldtour.com/en/players/john-al...</td>\n",
       "      <td>AUS</td>\n",
       "      <td>NaN</td>\n",
       "      <td>Sydney, NSW, Australia</td>\n",
       "      <td>1951.07.04</td>\n",
       "      <td>1951.0</td>\n",
       "      <td>7.0</td>\n",
       "      <td>4.0</td>\n",
       "      <td>0.0</td>\n",
       "      <td>180.0</td>\n",
       "      <td>82.0</td>\n",
       "      <td>6'3\"</td>\n",
       "      <td>75.0</td>\n",
       "      <td>191.0</td>\n",
       "      <td>NaN</td>\n",
       "      <td>NaN</td>\n",
       "    </tr>\n",
       "  </tbody>\n",
       "</table>\n",
       "</div>"
      ],
      "text/plain": [
       "  player_id      player_slug first_name  last_name  \\\n",
       "0      a002    ricardo-acuna    Ricardo      Acuna   \n",
       "1      a001  sadiq-abdullahi      Sadiq  Abdullahi   \n",
       "2      a005     nelson-aerts     Nelson      Aerts   \n",
       "3      a004       egan-adams       Egan      Adams   \n",
       "4      a006    ronald-agenor     Ronald     Agenor   \n",
       "5      a007    juan-aguilera       Juan   Aguilera   \n",
       "6      a012      marc-albert       Marc     Albert   \n",
       "7      a013    marco-alciati      Marco    Alciati   \n",
       "8      a009     richard-akel    Richard       Akel   \n",
       "9      a014   john-alexander       John  Alexander   \n",
       "\n",
       "                                          player_url flag_code  \\\n",
       "0  http://www.atpworldtour.com/en/players/ricardo...       CHI   \n",
       "1  http://www.atpworldtour.com/en/players/sadiq-a...       NGR   \n",
       "2  http://www.atpworldtour.com/en/players/nelson-...       BRA   \n",
       "3  http://www.atpworldtour.com/en/players/egan-ad...       USA   \n",
       "4  http://www.atpworldtour.com/en/players/ronald-...       USA   \n",
       "5  http://www.atpworldtour.com/en/players/juan-ag...       ESP   \n",
       "6  http://www.atpworldtour.com/en/players/marc-al...       NED   \n",
       "7  http://www.atpworldtour.com/en/players/marco-a...       ITA   \n",
       "8  http://www.atpworldtour.com/en/players/richard...       USA   \n",
       "9  http://www.atpworldtour.com/en/players/john-al...       AUS   \n",
       "\n",
       "                        residence                birthplace   birthdate  \\\n",
       "0                Jupiter, FL, USA           Santiago, Chile  1958.01.13   \n",
       "1                             NaN                       NaN  1960.02.02   \n",
       "2                             NaN  Cachoeira Do Sul, Brazil  1963.04.25   \n",
       "3               Palmetto, FL, USA      Miami Beach, FL, USA  1959.06.15   \n",
       "4  Beverly Hills, California, USA            Rabat, Morocco  1964.11.13   \n",
       "5                             NaN          Barcelona, Spain  1962.03.22   \n",
       "6                             NaN                       NaN         NaN   \n",
       "7                             NaN                       NaN         NaN   \n",
       "8                             NaN      Little Rock, AR, USA  1962.02.12   \n",
       "9                             NaN    Sydney, NSW, Australia  1951.07.04   \n",
       "\n",
       "   birth_year  birth_month  birth_day  turned_pro  weight_lbs  weight_kg  \\\n",
       "0      1958.0          1.0       13.0         0.0       150.0       68.0   \n",
       "1      1960.0          2.0        2.0         0.0         0.0        0.0   \n",
       "2      1963.0          4.0       25.0         0.0       165.0       75.0   \n",
       "3      1959.0          6.0       15.0         0.0       160.0       73.0   \n",
       "4      1964.0         11.0       13.0      1983.0       180.0       82.0   \n",
       "5      1962.0          3.0       22.0         0.0       150.0       68.0   \n",
       "6         NaN          NaN        NaN         0.0         0.0        0.0   \n",
       "7         NaN          NaN        NaN         0.0         0.0        0.0   \n",
       "8      1962.0          2.0       12.0         0.0         0.0        0.0   \n",
       "9      1951.0          7.0        4.0         0.0       180.0       82.0   \n",
       "\n",
       "  height_ft  height_inches  height_cm handedness backhand  \n",
       "0      5'9\"           69.0      175.0        NaN      NaN  \n",
       "1      0'0\"            0.0        0.0        NaN      NaN  \n",
       "2      6'2\"           74.0      188.0        NaN      NaN  \n",
       "3     5'10\"           70.0      178.0        NaN      NaN  \n",
       "4     5'11\"           71.0      180.0        NaN      NaN  \n",
       "5      6'0\"           72.0      183.0        NaN      NaN  \n",
       "6      0'0\"            0.0        0.0        NaN      NaN  \n",
       "7      0'0\"            0.0        0.0        NaN      NaN  \n",
       "8      0'0\"            0.0        0.0        NaN      NaN  \n",
       "9      6'3\"           75.0      191.0        NaN      NaN  "
      ]
     },
     "execution_count": 33,
     "metadata": {},
     "output_type": "execute_result"
    }
   ],
   "source": [
    "tennis_player.head(10)"
   ]
  },
  {
   "cell_type": "markdown",
   "metadata": {},
   "source": [
    "The fuction tail() it is used in this case to show the end 5 lines of our file"
   ]
  },
  {
   "cell_type": "code",
   "execution_count": 34,
   "metadata": {},
   "outputs": [
    {
     "data": {
      "text/html": [
       "<div>\n",
       "<style scoped>\n",
       "    .dataframe tbody tr th:only-of-type {\n",
       "        vertical-align: middle;\n",
       "    }\n",
       "\n",
       "    .dataframe tbody tr th {\n",
       "        vertical-align: top;\n",
       "    }\n",
       "\n",
       "    .dataframe thead th {\n",
       "        text-align: right;\n",
       "    }\n",
       "</style>\n",
       "<table border=\"1\" class=\"dataframe\">\n",
       "  <thead>\n",
       "    <tr style=\"text-align: right;\">\n",
       "      <th></th>\n",
       "      <th>player_id</th>\n",
       "      <th>player_slug</th>\n",
       "      <th>first_name</th>\n",
       "      <th>last_name</th>\n",
       "      <th>player_url</th>\n",
       "      <th>flag_code</th>\n",
       "      <th>residence</th>\n",
       "      <th>birthplace</th>\n",
       "      <th>birthdate</th>\n",
       "      <th>birth_year</th>\n",
       "      <th>birth_month</th>\n",
       "      <th>birth_day</th>\n",
       "      <th>turned_pro</th>\n",
       "      <th>weight_lbs</th>\n",
       "      <th>weight_kg</th>\n",
       "      <th>height_ft</th>\n",
       "      <th>height_inches</th>\n",
       "      <th>height_cm</th>\n",
       "      <th>handedness</th>\n",
       "      <th>backhand</th>\n",
       "    </tr>\n",
       "  </thead>\n",
       "  <tbody>\n",
       "    <tr>\n",
       "      <th>10907</th>\n",
       "      <td>z435</td>\n",
       "      <td>a-zorab</td>\n",
       "      <td>A.</td>\n",
       "      <td>Zorab</td>\n",
       "      <td>http://www.atpworldtour.com/en/players/a-zorab...</td>\n",
       "      <td>NaN</td>\n",
       "      <td>NaN</td>\n",
       "      <td>NaN</td>\n",
       "      <td>NaN</td>\n",
       "      <td>NaN</td>\n",
       "      <td>NaN</td>\n",
       "      <td>NaN</td>\n",
       "      <td>NaN</td>\n",
       "      <td>NaN</td>\n",
       "      <td>NaN</td>\n",
       "      <td>NaN</td>\n",
       "      <td>NaN</td>\n",
       "      <td>NaN</td>\n",
       "      <td>NaN</td>\n",
       "      <td>NaN</td>\n",
       "    </tr>\n",
       "    <tr>\n",
       "      <th>10908</th>\n",
       "      <td>z437</td>\n",
       "      <td>j-zimmermann</td>\n",
       "      <td>J.</td>\n",
       "      <td>Zimmermann</td>\n",
       "      <td>http://www.atpworldtour.com/en/players/j-zimme...</td>\n",
       "      <td>NaN</td>\n",
       "      <td>NaN</td>\n",
       "      <td>NaN</td>\n",
       "      <td>NaN</td>\n",
       "      <td>NaN</td>\n",
       "      <td>NaN</td>\n",
       "      <td>NaN</td>\n",
       "      <td>NaN</td>\n",
       "      <td>NaN</td>\n",
       "      <td>NaN</td>\n",
       "      <td>NaN</td>\n",
       "      <td>NaN</td>\n",
       "      <td>NaN</td>\n",
       "      <td>NaN</td>\n",
       "      <td>NaN</td>\n",
       "    </tr>\n",
       "    <tr>\n",
       "      <th>10909</th>\n",
       "      <td>z436</td>\n",
       "      <td>g-zinn</td>\n",
       "      <td>G.</td>\n",
       "      <td>Zinn</td>\n",
       "      <td>http://www.atpworldtour.com/en/players/g-zinn/...</td>\n",
       "      <td>NaN</td>\n",
       "      <td>NaN</td>\n",
       "      <td>NaN</td>\n",
       "      <td>NaN</td>\n",
       "      <td>NaN</td>\n",
       "      <td>NaN</td>\n",
       "      <td>NaN</td>\n",
       "      <td>NaN</td>\n",
       "      <td>NaN</td>\n",
       "      <td>NaN</td>\n",
       "      <td>NaN</td>\n",
       "      <td>NaN</td>\n",
       "      <td>NaN</td>\n",
       "      <td>NaN</td>\n",
       "      <td>NaN</td>\n",
       "    </tr>\n",
       "    <tr>\n",
       "      <th>10910</th>\n",
       "      <td>z440</td>\n",
       "      <td>c-zenger</td>\n",
       "      <td>C.</td>\n",
       "      <td>Zenger</td>\n",
       "      <td>http://www.atpworldtour.com/en/players/c-zenge...</td>\n",
       "      <td>GER</td>\n",
       "      <td>NaN</td>\n",
       "      <td>NaN</td>\n",
       "      <td>NaN</td>\n",
       "      <td>NaN</td>\n",
       "      <td>NaN</td>\n",
       "      <td>NaN</td>\n",
       "      <td>NaN</td>\n",
       "      <td>NaN</td>\n",
       "      <td>NaN</td>\n",
       "      <td>NaN</td>\n",
       "      <td>NaN</td>\n",
       "      <td>NaN</td>\n",
       "      <td>NaN</td>\n",
       "      <td>NaN</td>\n",
       "    </tr>\n",
       "    <tr>\n",
       "      <th>10911</th>\n",
       "      <td>z442</td>\n",
       "      <td>a-ziffo</td>\n",
       "      <td>A.</td>\n",
       "      <td>Ziffo</td>\n",
       "      <td>http://www.atpworldtour.com/en/players/a-ziffo...</td>\n",
       "      <td>NaN</td>\n",
       "      <td>NaN</td>\n",
       "      <td>NaN</td>\n",
       "      <td>NaN</td>\n",
       "      <td>NaN</td>\n",
       "      <td>NaN</td>\n",
       "      <td>NaN</td>\n",
       "      <td>NaN</td>\n",
       "      <td>NaN</td>\n",
       "      <td>NaN</td>\n",
       "      <td>NaN</td>\n",
       "      <td>NaN</td>\n",
       "      <td>NaN</td>\n",
       "      <td>NaN</td>\n",
       "      <td>NaN</td>\n",
       "    </tr>\n",
       "  </tbody>\n",
       "</table>\n",
       "</div>"
      ],
      "text/plain": [
       "      player_id   player_slug first_name   last_name  \\\n",
       "10907      z435       a-zorab         A.       Zorab   \n",
       "10908      z437  j-zimmermann         J.  Zimmermann   \n",
       "10909      z436        g-zinn         G.        Zinn   \n",
       "10910      z440      c-zenger         C.      Zenger   \n",
       "10911      z442       a-ziffo         A.       Ziffo   \n",
       "\n",
       "                                              player_url flag_code residence  \\\n",
       "10907  http://www.atpworldtour.com/en/players/a-zorab...       NaN       NaN   \n",
       "10908  http://www.atpworldtour.com/en/players/j-zimme...       NaN       NaN   \n",
       "10909  http://www.atpworldtour.com/en/players/g-zinn/...       NaN       NaN   \n",
       "10910  http://www.atpworldtour.com/en/players/c-zenge...       GER       NaN   \n",
       "10911  http://www.atpworldtour.com/en/players/a-ziffo...       NaN       NaN   \n",
       "\n",
       "      birthplace birthdate  birth_year  birth_month  birth_day  turned_pro  \\\n",
       "10907        NaN       NaN         NaN          NaN        NaN         NaN   \n",
       "10908        NaN       NaN         NaN          NaN        NaN         NaN   \n",
       "10909        NaN       NaN         NaN          NaN        NaN         NaN   \n",
       "10910        NaN       NaN         NaN          NaN        NaN         NaN   \n",
       "10911        NaN       NaN         NaN          NaN        NaN         NaN   \n",
       "\n",
       "       weight_lbs  weight_kg height_ft  height_inches  height_cm handedness  \\\n",
       "10907         NaN        NaN       NaN            NaN        NaN        NaN   \n",
       "10908         NaN        NaN       NaN            NaN        NaN        NaN   \n",
       "10909         NaN        NaN       NaN            NaN        NaN        NaN   \n",
       "10910         NaN        NaN       NaN            NaN        NaN        NaN   \n",
       "10911         NaN        NaN       NaN            NaN        NaN        NaN   \n",
       "\n",
       "      backhand  \n",
       "10907      NaN  \n",
       "10908      NaN  \n",
       "10909      NaN  \n",
       "10910      NaN  \n",
       "10911      NaN  "
      ]
     },
     "execution_count": 34,
     "metadata": {},
     "output_type": "execute_result"
    }
   ],
   "source": [
    "tennis_player.tail()"
   ]
  },
  {
   "cell_type": "markdown",
   "metadata": {},
   "source": [
    "As using info () I could easily know the name of each column, the number of rows per column and the type of data for each of these columns, as float64 and object in this case. At the end i can see the amount of memory used to read the file."
   ]
  },
  {
   "cell_type": "code",
   "execution_count": 35,
   "metadata": {},
   "outputs": [
    {
     "name": "stdout",
     "output_type": "stream",
     "text": [
      "<class 'pandas.core.frame.DataFrame'>\n",
      "RangeIndex: 10912 entries, 0 to 10911\n",
      "Data columns (total 20 columns):\n",
      " #   Column         Non-Null Count  Dtype  \n",
      "---  ------         --------------  -----  \n",
      " 0   player_id      10912 non-null  object \n",
      " 1   player_slug    10912 non-null  object \n",
      " 2   first_name     10912 non-null  object \n",
      " 3   last_name      10912 non-null  object \n",
      " 4   player_url     10912 non-null  object \n",
      " 5   flag_code      8727 non-null   object \n",
      " 6   residence      2014 non-null   object \n",
      " 7   birthplace     3038 non-null   object \n",
      " 8   birthdate      5114 non-null   object \n",
      " 9   birth_year     5114 non-null   float64\n",
      " 10  birth_month    5114 non-null   float64\n",
      " 11  birth_day      5114 non-null   float64\n",
      " 12  turned_pro     1533 non-null   float64\n",
      " 13  weight_lbs     2706 non-null   float64\n",
      " 14  weight_kg      2706 non-null   float64\n",
      " 15  height_ft      2658 non-null   object \n",
      " 16  height_inches  2658 non-null   float64\n",
      " 17  height_cm      2658 non-null   float64\n",
      " 18  handedness     1136 non-null   object \n",
      " 19  backhand       1136 non-null   object \n",
      "dtypes: float64(8), object(12)\n",
      "memory usage: 1.7+ MB\n"
     ]
    }
   ],
   "source": [
    "tennis_player.info()"
   ]
  },
  {
   "cell_type": "markdown",
   "metadata": {},
   "source": [
    "# 4) Pick two different types of variables and calculate their central tendency measures if possible."
   ]
  },
  {
   "cell_type": "markdown",
   "metadata": {},
   "source": [
    "First: Quantitative variable \"weight_kg\""
   ]
  },
  {
   "cell_type": "code",
   "execution_count": 36,
   "metadata": {},
   "outputs": [
    {
     "name": "stdout",
     "output_type": "stream",
     "text": [
      "74.94124168514412\n"
     ]
    }
   ],
   "source": [
    "average = tennis_player['weight_kg'].mean()\n",
    "print(average)"
   ]
  },
  {
   "cell_type": "code",
   "execution_count": 37,
   "metadata": {},
   "outputs": [
    {
     "name": "stdout",
     "output_type": "stream",
     "text": [
      "77.0\n"
     ]
    }
   ],
   "source": [
    "middlePoint = tennis_player['weight_kg'].median()\n",
    "print(middlePoint)"
   ]
  },
  {
   "cell_type": "code",
   "execution_count": 38,
   "metadata": {
    "scrolled": true
   },
   "outputs": [
    {
     "name": "stdout",
     "output_type": "stream",
     "text": [
      "0    75.0\n",
      "dtype: float64\n"
     ]
    }
   ],
   "source": [
    "trend = tennis_player['weight_kg'].mode()\n",
    "print(trend)"
   ]
  },
  {
   "cell_type": "markdown",
   "metadata": {},
   "source": [
    "Second : Qualitative variable \"flag_code\" this variable refers where players are from.\n",
    "In this case as the variable is qualitative i can not calculate the mean and the median, I only can calculate mode, which defines the value that occurs more often. In this case, the majority of players are from USA."
   ]
  },
  {
   "cell_type": "code",
   "execution_count": 39,
   "metadata": {},
   "outputs": [
    {
     "name": "stdout",
     "output_type": "stream",
     "text": [
      "0    USA\n",
      "dtype: object\n"
     ]
    }
   ],
   "source": [
    "trend = tennis_player['flag_code'].mode()\n",
    "print(trend)"
   ]
  },
  {
   "cell_type": "markdown",
   "metadata": {},
   "source": [
    "# 5) Usint the same variable calculate its standard deviation"
   ]
  },
  {
   "cell_type": "markdown",
   "metadata": {},
   "source": [
    "The standard deviation tells us how to spread out  numbers are, it means,  how is the average distance of data point from their own mean.\n",
    "To this case, variable 'weight_kg', the standard deviation is the value below.\n",
    "In my opinion, we might call this as low standard deviation because data points are clustered around the mean. "
   ]
  },
  {
   "cell_type": "code",
   "execution_count": 40,
   "metadata": {},
   "outputs": [
    {
     "data": {
      "text/plain": [
       "20.263036080800315"
      ]
     },
     "execution_count": 40,
     "metadata": {},
     "output_type": "execute_result"
    }
   ],
   "source": [
    "tennis_player['weight_kg'].std()"
   ]
  },
  {
   "cell_type": "markdown",
   "metadata": {},
   "source": [
    "# 6) Calculate the 5 number summary"
   ]
  },
  {
   "cell_type": "markdown",
   "metadata": {},
   "source": [
    "The five number summary gives you an overview about what your data set looks like, they are: \n",
    "The minimum, \n",
    "Q1( the first quartile, or the 25% mark), \n",
    "the median (the middle point, or the 50% mark),\n",
    "Q3 (the third quartile, or the 75% mark) \n",
    "and The maximum. \n",
    "\n",
    "It is possible to calculate all of then using describe () as it shows below "
   ]
  },
  {
   "cell_type": "code",
   "execution_count": 41,
   "metadata": {},
   "outputs": [
    {
     "data": {
      "text/html": [
       "<div>\n",
       "<style scoped>\n",
       "    .dataframe tbody tr th:only-of-type {\n",
       "        vertical-align: middle;\n",
       "    }\n",
       "\n",
       "    .dataframe tbody tr th {\n",
       "        vertical-align: top;\n",
       "    }\n",
       "\n",
       "    .dataframe thead th {\n",
       "        text-align: right;\n",
       "    }\n",
       "</style>\n",
       "<table border=\"1\" class=\"dataframe\">\n",
       "  <thead>\n",
       "    <tr style=\"text-align: right;\">\n",
       "      <th></th>\n",
       "      <th>birth_year</th>\n",
       "      <th>birth_month</th>\n",
       "      <th>birth_day</th>\n",
       "      <th>turned_pro</th>\n",
       "      <th>weight_lbs</th>\n",
       "      <th>weight_kg</th>\n",
       "      <th>height_inches</th>\n",
       "      <th>height_cm</th>\n",
       "    </tr>\n",
       "  </thead>\n",
       "  <tbody>\n",
       "    <tr>\n",
       "      <th>count</th>\n",
       "      <td>5114.000000</td>\n",
       "      <td>5114.000000</td>\n",
       "      <td>5114.000000</td>\n",
       "      <td>1533.000000</td>\n",
       "      <td>2706.000000</td>\n",
       "      <td>2706.000000</td>\n",
       "      <td>2658.000000</td>\n",
       "      <td>2658.000000</td>\n",
       "    </tr>\n",
       "    <tr>\n",
       "      <th>mean</th>\n",
       "      <td>1968.991201</td>\n",
       "      <td>6.134142</td>\n",
       "      <td>15.437427</td>\n",
       "      <td>1807.857143</td>\n",
       "      <td>165.145972</td>\n",
       "      <td>74.941242</td>\n",
       "      <td>69.377728</td>\n",
       "      <td>176.197517</td>\n",
       "    </tr>\n",
       "    <tr>\n",
       "      <th>std</th>\n",
       "      <td>24.776571</td>\n",
       "      <td>3.414743</td>\n",
       "      <td>8.746428</td>\n",
       "      <td>584.589088</td>\n",
       "      <td>44.659854</td>\n",
       "      <td>20.263036</td>\n",
       "      <td>14.765292</td>\n",
       "      <td>37.510783</td>\n",
       "    </tr>\n",
       "    <tr>\n",
       "      <th>min</th>\n",
       "      <td>1864.000000</td>\n",
       "      <td>1.000000</td>\n",
       "      <td>1.000000</td>\n",
       "      <td>0.000000</td>\n",
       "      <td>0.000000</td>\n",
       "      <td>0.000000</td>\n",
       "      <td>0.000000</td>\n",
       "      <td>0.000000</td>\n",
       "    </tr>\n",
       "    <tr>\n",
       "      <th>25%</th>\n",
       "      <td>1958.000000</td>\n",
       "      <td>3.000000</td>\n",
       "      <td>8.000000</td>\n",
       "      <td>1988.000000</td>\n",
       "      <td>160.000000</td>\n",
       "      <td>73.000000</td>\n",
       "      <td>70.000000</td>\n",
       "      <td>178.000000</td>\n",
       "    </tr>\n",
       "    <tr>\n",
       "      <th>50%</th>\n",
       "      <td>1976.000000</td>\n",
       "      <td>6.000000</td>\n",
       "      <td>15.000000</td>\n",
       "      <td>1996.000000</td>\n",
       "      <td>170.000000</td>\n",
       "      <td>77.000000</td>\n",
       "      <td>72.000000</td>\n",
       "      <td>183.000000</td>\n",
       "    </tr>\n",
       "    <tr>\n",
       "      <th>75%</th>\n",
       "      <td>1988.000000</td>\n",
       "      <td>9.000000</td>\n",
       "      <td>23.000000</td>\n",
       "      <td>2003.000000</td>\n",
       "      <td>180.000000</td>\n",
       "      <td>82.000000</td>\n",
       "      <td>74.000000</td>\n",
       "      <td>188.000000</td>\n",
       "    </tr>\n",
       "    <tr>\n",
       "      <th>max</th>\n",
       "      <td>2001.000000</td>\n",
       "      <td>12.000000</td>\n",
       "      <td>31.000000</td>\n",
       "      <td>2017.000000</td>\n",
       "      <td>1488.000000</td>\n",
       "      <td>675.000000</td>\n",
       "      <td>83.000000</td>\n",
       "      <td>211.000000</td>\n",
       "    </tr>\n",
       "  </tbody>\n",
       "</table>\n",
       "</div>"
      ],
      "text/plain": [
       "        birth_year  birth_month    birth_day   turned_pro   weight_lbs  \\\n",
       "count  5114.000000  5114.000000  5114.000000  1533.000000  2706.000000   \n",
       "mean   1968.991201     6.134142    15.437427  1807.857143   165.145972   \n",
       "std      24.776571     3.414743     8.746428   584.589088    44.659854   \n",
       "min    1864.000000     1.000000     1.000000     0.000000     0.000000   \n",
       "25%    1958.000000     3.000000     8.000000  1988.000000   160.000000   \n",
       "50%    1976.000000     6.000000    15.000000  1996.000000   170.000000   \n",
       "75%    1988.000000     9.000000    23.000000  2003.000000   180.000000   \n",
       "max    2001.000000    12.000000    31.000000  2017.000000  1488.000000   \n",
       "\n",
       "         weight_kg  height_inches    height_cm  \n",
       "count  2706.000000    2658.000000  2658.000000  \n",
       "mean     74.941242      69.377728   176.197517  \n",
       "std      20.263036      14.765292    37.510783  \n",
       "min       0.000000       0.000000     0.000000  \n",
       "25%      73.000000      70.000000   178.000000  \n",
       "50%      77.000000      72.000000   183.000000  \n",
       "75%      82.000000      74.000000   188.000000  \n",
       "max     675.000000      83.000000   211.000000  "
      ]
     },
     "execution_count": 41,
     "metadata": {},
     "output_type": "execute_result"
    }
   ],
   "source": [
    "tennis_player.describe()        "
   ]
  },
  {
   "cell_type": "markdown",
   "metadata": {},
   "source": [
    "# 7) Using appropriate graphics, plot the variables to get a better idea of its dispersion."
   ]
  },
  {
   "cell_type": "markdown",
   "metadata": {},
   "source": [
    "Firts: Quantitative variable weight_kg.\n",
    "In my opinion, for this variable, the graphic which gives me the best idea of dispersion is the histogram."
   ]
  },
  {
   "cell_type": "code",
   "execution_count": 42,
   "metadata": {},
   "outputs": [
    {
     "data": {
      "text/plain": [
       "<AxesSubplot:>"
      ]
     },
     "execution_count": 42,
     "metadata": {},
     "output_type": "execute_result"
    },
    {
     "data": {
      "image/png": "[encoded data removed]",
      "text/plain": [
       "<Figure size 432x288 with 1 Axes>"
      ]
     },
     "metadata": {},
     "output_type": "display_data"
    }
   ],
   "source": [
    "tennis_player['weight_kg'].hist()"
   ]
  },
  {
   "cell_type": "markdown",
   "metadata": {},
   "source": [
    "Second : Qualitative variable \"flag_code\". In this case, i choose the bar chart to demonstrate a better idea of dispersion. "
   ]
  },
  {
   "cell_type": "code",
   "execution_count": 43,
   "metadata": {},
   "outputs": [
    {
     "data": {
      "text/plain": [
       "<AxesSubplot:xlabel='count', ylabel='flag_code'>"
      ]
     },
     "execution_count": 43,
     "metadata": {},
     "output_type": "execute_result"
    },
    {
     "data": {
      "image/png": "[encoded data removed]",
      "text/plain": [
       "<Figure size 432x288 with 1 Axes>"
      ]
     },
     "metadata": {},
     "output_type": "display_data"
    }
   ],
   "source": [
    "sns.countplot(y='flag_code', data = tennis_player[0:50])"
   ]
  },
  {
   "cell_type": "markdown",
   "metadata": {},
   "source": [
    "# 8) Is it a normal distribuition? Provide a short analysis looking at the results you got in the previous items."
   ]
  },
  {
   "cell_type": "markdown",
   "metadata": {},
   "source": [
    "In this case, quantitative variable  “weight_kg”, it is not a normal distribution because the mean and median are different values.  \n",
    "As we can see at step 4, the mean is 74.94 and the median is 77, which signify, Mean < Median, so in this case is a skewed distribution, with a negative skew. \n",
    "Also, at step 7, based on the histogram, it is possible to see that is a negative skew distribution.  "
   ]
  },
  {
   "cell_type": "markdown",
   "metadata": {},
   "source": [
    "# 9) With all the information obtained above, analyze if the variables have missing values and/or outliers. Explain how you reach that conclusion."
   ]
  },
  {
   "cell_type": "markdown",
   "metadata": {},
   "source": [
    "As we can see at step 3, when I plotted the function info()\n",
    "\n",
    "My data set there is range of 10912 entries.\n",
    "\n",
    "So if there are 10912 rows and if any column there are less than 10912, I can say that there are missing values in my data set.  \n",
    "\n",
    "For example, at column “weight_kg” there are 2706 rows, which means that there are (10912 - 2706) 8206 missing values. "
   ]
  },
  {
   "cell_type": "markdown",
   "metadata": {},
   "source": [
    "or we can see missing values using the funtion isnull().sum()"
   ]
  },
  {
   "cell_type": "code",
   "execution_count": 44,
   "metadata": {},
   "outputs": [
    {
     "data": {
      "text/plain": [
       "player_id           0\n",
       "player_slug         0\n",
       "first_name          0\n",
       "last_name           0\n",
       "player_url          0\n",
       "flag_code        2185\n",
       "residence        8898\n",
       "birthplace       7874\n",
       "birthdate        5798\n",
       "birth_year       5798\n",
       "birth_month      5798\n",
       "birth_day        5798\n",
       "turned_pro       9379\n",
       "weight_lbs       8206\n",
       "weight_kg        8206\n",
       "height_ft        8254\n",
       "height_inches    8254\n",
       "height_cm        8254\n",
       "handedness       9776\n",
       "backhand         9776\n",
       "dtype: int64"
      ]
     },
     "execution_count": 44,
     "metadata": {},
     "output_type": "execute_result"
    }
   ],
   "source": [
    "tennis_player.isnull().sum()"
   ]
  },
  {
   "cell_type": "markdown",
   "metadata": {},
   "source": [
    "One way we can say that might be outliers is to analyse the variables , and if the mean and median are diferente, for example, as we can see at step 6, all variables has different mean and median, we might have outilers in this data set."
   ]
  },
  {
   "cell_type": "markdown",
   "metadata": {},
   "source": [
    "Also we can use the graphic below that show us the outliers.\n",
    "In this case it is easy to visualising  the outiliers, in special at variables  “weight_kg” and “weight_lbs” "
   ]
  },
  {
   "cell_type": "code",
   "execution_count": 45,
   "metadata": {
    "scrolled": true
   },
   "outputs": [
    {
     "data": {
      "image/png": "[encoded data removed]",
      "text/plain": [
       "<Figure size 1080x216 with 1 Axes>"
      ]
     },
     "metadata": {},
     "output_type": "display_data"
    }
   ],
   "source": [
    "tennis_player.plot(kind='box', vert=False, figsize=(15, 3))\n",
    "plt.show()"
   ]
  },
  {
   "cell_type": "markdown",
   "metadata": {},
   "source": [
    "# 10) Pick 2 variables and plot their relation using an appropriate graphic. Provide a short analysis of what you observed"
   ]
  },
  {
   "cell_type": "code",
   "execution_count": 46,
   "metadata": {},
   "outputs": [
    {
     "data": {
      "text/plain": [
       "<AxesSubplot:xlabel='height_cm', ylabel='weight_kg'>"
      ]
     },
     "execution_count": 46,
     "metadata": {},
     "output_type": "execute_result"
    },
    {
     "data": {
      "image/png": "[encoded data removed]",
      "text/plain": [
       "<Figure size 432x288 with 1 Axes>"
      ]
     },
     "metadata": {},
     "output_type": "display_data"
    }
   ],
   "source": [
    "sns.scatterplot(data=tennis_player, x=\"height_cm\",y=\"weight_kg\")"
   ]
  },
  {
   "cell_type": "markdown",
   "metadata": {},
   "source": [
    "To this step I chose the scatter plot and the variables \"height_cm\" x \"weight_kg\",.\n",
    "In this graphic, it is possible to observe the correlation between those data, that the greater the weight of a player, consequently, his height also becomes greater.\n",
    "With that, we can conclude that the two variables are correlated with each other, showing a positive correlation between then. "
   ]
  },
  {
   "cell_type": "code",
   "execution_count": null,
   "metadata": {},
   "outputs": [],
   "source": []
  }
 ],
 "metadata": {
  "kernelspec": {
   "display_name": "Python 3",
   "language": "python",
   "name": "python3"
  },
  "language_info": {
   "codemirror_mode": {
    "name": "ipython",
    "version": 3
   },
   "file_extension": ".py",
   "mimetype": "text/x-python",
   "name": "python",
   "nbconvert_exporter": "python",
   "pygments_lexer": "ipython3",
   "version": "3.8.5"
  }
 },
 "nbformat": 4,
 "nbformat_minor": 4
}
